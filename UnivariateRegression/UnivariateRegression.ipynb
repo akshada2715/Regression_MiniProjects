{
 "cells": [
  {
   "cell_type": "code",
   "execution_count": 5,
   "metadata": {},
   "outputs": [],
   "source": [
    "import matplotlib.pyplot as plt \n",
    "plt.style.use('ggplot')\n",
    "%matplotlib inline"
   ]
  },
  {
   "cell_type": "code",
   "execution_count": 6,
   "metadata": {},
   "outputs": [],
   "source": [
    "import numpy as np\n",
    "import pandas as pd  \n",
    "import seaborn as sns \n",
    "plt.rcParams['figure.figsize'] = (12, 8)"
   ]
  },
  {
   "cell_type": "code",
   "execution_count": null,
   "metadata": {},
   "outputs": [],
   "source": [
    "data = pd.read_csv('bike_sharing_data.txt')\n",
    "data.head()"
   ]
  },
  {
   "cell_type": "code",
   "execution_count": null,
   "metadata": {},
   "outputs": [],
   "source": [
    "data.info()"
   ]
  },
  {
   "cell_type": "markdown",
   "metadata": {},
   "source": [
    "Task 3: Visualize the data"
   ]
  },
  {
   "cell_type": "code",
   "execution_count": null,
   "metadata": {},
   "outputs": [],
   "source": [
    "ax = sns.scatterplot(x=\"Population\",y=\"Profit\", data=data)\n",
    "ax.set_title(\"Profit in $10000s vs City Population in 10000s\")"
   ]
  },
  {
   "cell_type": "markdown",
   "metadata": {},
   "source": [
    "Compute the Cost "
   ]
  },
  {
   "cell_type": "code",
   "execution_count": null,
   "metadata": {},
   "outputs": [],
   "source": [
    "def cost_function(X,y,theta):\n",
    "    m = len(y)\n",
    "    y_pred = X.dot(theta)\n",
    "    error= (y_pred - y)** 2\n",
    "    return 1/(2*m) *np.sum(error)"
   ]
  },
  {
   "cell_type": "code",
   "execution_count": null,
   "metadata": {},
   "outputs": [],
   "source": [
    "m = data.Population.values.size\n",
    "X = np.append(np.ones((m,1)),data.Population.values.reshape(m,1), axis=1)\n",
    "y = data.Profit.values.reshape(m,1)\n",
    "theta=np.zeros((2,1))\n",
    "\n",
    "cost_function(X,y,theta)"
   ]
  },
  {
   "cell_type": "markdown",
   "metadata": {},
   "source": [
    "Graadient Descent "
   ]
  },
  {
   "cell_type": "code",
   "execution_count": null,
   "metadata": {},
   "outputs": [],
   "source": [
    "def gradient_descent(X,y,theta, alpha, iterations):\n",
    "    m = len(y)\n",
    "    costs = []\n",
    "    for i in range(iterations):\n",
    "        y_pred = X.dot(theta)\n",
    "        error = np.dot(X.transpose(), (y_pred-y))\n",
    "        theta -= alpha* 1/m * error \n",
    "        costs.append(cost_function(X,y,theta))\n",
    "    return theta,costs"
   ]
  },
  {
   "cell_type": "code",
   "execution_count": null,
   "metadata": {},
   "outputs": [],
   "source": [
    "def gradient_descent(X,y,theta, alpha, iterations):\n",
    "    m = len(y)\n",
    "    costs = []\n",
    "    for i in range(iterations):\n",
    "        y_pred = X.dot(theta)\n",
    "        error = np.dot(X.transpose(), (y_pred-y))\n",
    "        theta -= alpha* 1/m * error \n",
    "        costs.append(cost_function(X,y,theta))\n",
    "    return theta,costs"
   ]
  },
  {
   "cell_type": "markdown",
   "metadata": {},
   "source": [
    "Visualizing the cost function j theta"
   ]
  },
  {
   "cell_type": "code",
   "execution_count": null,
   "metadata": {},
   "outputs": [],
   "source": [
    "from mpl_toolkits.mplot3d import Axes3D"
   ]
  },
  {
   "cell_type": "code",
   "execution_count": null,
   "metadata": {},
   "outputs": [],
   "source": [
    "theta_0 = np.linspace(-10,10,100)\n",
    "theta_1 = np.linspace(-1,4,100)\n",
    "cost_values = np.zeros((len(theta_0), len(theta_1)))\n",
    "for i in range(len(theta_0)):\n",
    "    for j in range(len(theta_1)):\n",
    "        t =np.array([theta_0[i],theta_1[j]])\n",
    "        cost_values[i,j] = cost_function(X,y,t)"
   ]
  },
  {
   "cell_type": "code",
   "execution_count": null,
   "metadata": {},
   "outputs": [],
   "source": [
    "fig= plt.figure(figsize = (12,8))\n",
    "ax = fig.gca(projection = '3d')\n",
    "surf = ax.plot_surface(theta_0,theta_1,cost_values,cmap='viridis')\n",
    "fig.colorbar(surf,shrink=0.5, aspect = 5)\n",
    "plt.xlabel(\"$\\Theta_0$\")\n",
    "plt.ylabel(\"$\\Theta_1$\")\n",
    "ax.set_zlabel(\"$J(\\Theta)$\")\n",
    "ax.view_init(30,330)\n",
    "plt.show()"
   ]
  },
  {
   "cell_type": "markdown",
   "metadata": {},
   "source": [
    "Plotting the convergence"
   ]
  },
  {
   "cell_type": "code",
   "execution_count": null,
   "metadata": {},
   "outputs": [],
   "source": [
    "plt.plot(costs)\n",
    "plt.xlabel(\"Iterations\")\n",
    "plt.ylabel(\"$J\\Theta)$\")\n",
    "plt.title(\"Values of the Cosst Function over iterations of the Gradient Descent \")"
   ]
  },
  {
   "cell_type": "markdown",
   "metadata": {},
   "source": [
    "Trainging Data wih "
   ]
  },
  {
   "cell_type": "code",
   "execution_count": null,
   "metadata": {},
   "outputs": [],
   "source": [
    "theta.shape"
   ]
  },
  {
   "cell_type": "code",
   "execution_count": null,
   "metadata": {},
   "outputs": [],
   "source": [
    "theta"
   ]
  },
  {
   "cell_type": "code",
   "execution_count": null,
   "metadata": {},
   "outputs": [],
   "source": [
    "theta= np.squeeze(theta)\n",
    "ax = sns.scatterplot(x=\"Population\",y=\"Profit\", data=data)\n",
    "x_value = [x for x in range(5,25)]\n",
    "y_value = [(x*theta[1] + theta[0]) for x in x_value]\n",
    "sns.lineplot(x_value,y_value)\n",
    "plt.xlabel(\"Population in 10000s\")\n",
    "plt.ylabel(\"Profit in $10000s\")\n",
    "plt.title(\"Linear Regression fit \")\n",
    "plt.show()"
   ]
  },
  {
   "cell_type": "markdown",
   "metadata": {},
   "source": [
    "Inference using the optimized theta values"
   ]
  },
  {
   "cell_type": "code",
   "execution_count": null,
   "metadata": {},
   "outputs": [],
   "source": [
    "def predict(x,theta):\n",
    "    y_pred = np.dot(theta.transpose(),x)\n",
    "    return y_pred"
   ]
  },
  {
   "cell_type": "code",
   "execution_count": null,
   "metadata": {},
   "outputs": [],
   "source": [
    "y_pred_1 = predict(np.array([1,4]),theta) * 10000\n",
    "print(\"For a population of 40,000 people, the model predicts a profit of $\" + str(round(y_pred_1,0)))"
   ]
  },
  {
   "cell_type": "code",
   "execution_count": null,
   "metadata": {},
   "outputs": [],
   "source": [
    "y_pred_2 = predict(np.array([1,8.3]),theta) *10000\n",
    "print(\"For a population of 83,000 people, the model predicts a profit of $\" + str(round(y_pred_2,0))"
   ]
  }
 ],
 "metadata": {
  "kernelspec": {
   "display_name": "Python 3",
   "language": "python",
   "name": "python3"
  },
  "language_info": {
   "codemirror_mode": {
    "name": "ipython",
    "version": 3
   },
   "file_extension": ".py",
   "mimetype": "text/x-python",
   "name": "python",
   "nbconvert_exporter": "python",
   "pygments_lexer": "ipython3",
   "version": "3.5.2"
  }
 },
 "nbformat": 4,
 "nbformat_minor": 4
}
